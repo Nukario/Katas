{
 "cells": [
  {
   "cell_type": "markdown",
   "metadata": {},
   "source": [
    "#Ejercicio 1"
   ]
  },
  {
   "cell_type": "code",
   "execution_count": 3,
   "metadata": {},
   "outputs": [
    {
     "name": "stdout",
     "output_type": "stream",
     "text": [
      "Tenemos esta cantidad de planetas  8\n"
     ]
    }
   ],
   "source": [
    "planets = ['mercurio', 'venus', 'tierra', 'marte', 'jupiter', 'saturno', 'urano', 'neptuno']\n",
    "print(\"La cantidad de planetas es\", len(planets) )"
   ]
  },
  {
   "cell_type": "markdown",
   "metadata": {},
   "source": [
    "#Agregar pluton"
   ]
  },
  {
   "cell_type": "code",
   "execution_count": 5,
   "metadata": {},
   "outputs": [
    {
     "name": "stdout",
     "output_type": "stream",
     "text": [
      "La cantidad de planetas es  10 este es el ultimo planeta  Pluton\n"
     ]
    }
   ],
   "source": [
    "planets.append('Pluton')\n",
    "print(\"La cantidad de planetas es \", len(planets), \"este es el ultimo planeta \", planets[-1])"
   ]
  },
  {
   "cell_type": "markdown",
   "metadata": {},
   "source": [
    "#Ejercicio 2"
   ]
  },
  {
   "cell_type": "code",
   "execution_count": 13,
   "metadata": {},
   "outputs": [],
   "source": [
    "planets = ['Mercurio','Venus','Tierra','Marte','Jupiter','Saturno','Neptuno']"
   ]
  },
  {
   "cell_type": "markdown",
   "metadata": {},
   "source": [
    "#Solicitar nombre de un planeta"
   ]
  },
  {
   "cell_type": "code",
   "execution_count": 23,
   "metadata": {},
   "outputs": [
    {
     "name": "stdout",
     "output_type": "stream",
     "text": [
      "El planeta ingresado fue Marte\n"
     ]
    }
   ],
   "source": [
    "nombre_planeta = input('Ingrese el nombre de un planeta')\n",
    "print(\"El planeta ingresado fue\",nombre_planeta)"
   ]
  },
  {
   "cell_type": "markdown",
   "metadata": {},
   "source": [
    "#Buscar planeta"
   ]
  },
  {
   "cell_type": "code",
   "execution_count": 24,
   "metadata": {},
   "outputs": [
    {
     "name": "stdout",
     "output_type": "stream",
     "text": [
      "3\n"
     ]
    }
   ],
   "source": [
    "planets_index = planets.index(nombre_planeta)\n",
    "print(planets_index)"
   ]
  },
  {
   "cell_type": "markdown",
   "metadata": {},
   "source": [
    "#Planetas mas cercanos"
   ]
  },
  {
   "cell_type": "code",
   "execution_count": 27,
   "metadata": {},
   "outputs": [
    {
     "name": "stdout",
     "output_type": "stream",
     "text": [
      "Los planetas mas cercanos al sol desde  Marte  son: ['Mercurio', 'Venus', 'Tierra']\n"
     ]
    }
   ],
   "source": [
    "print(\"Los planetas mas cercanos al sol desde \",nombre_planeta, \" son:\", planets[0:planets_index])"
   ]
  },
  {
   "cell_type": "markdown",
   "metadata": {},
   "source": [
    "#Planetas mas lejanos"
   ]
  },
  {
   "cell_type": "code",
   "execution_count": 28,
   "metadata": {},
   "outputs": [
    {
     "name": "stdout",
     "output_type": "stream",
     "text": [
      "Los planetas mas lejanos al sol desde  Marte  son: ['Jupiter', 'Saturno', 'Neptuno']\n"
     ]
    }
   ],
   "source": [
    "print(\"Los planetas mas lejanos al sol desde \",nombre_planeta, \" son:\", planets[planets_index+1:])"
   ]
  }
 ],
 "metadata": {
  "interpreter": {
   "hash": "e1776c272581bacb2429406446b2c7a1bfe7cf189ead0b50f0bc6464913d27b9"
  },
  "kernelspec": {
   "display_name": "Python 3.10.2 64-bit",
   "language": "python",
   "name": "python3"
  },
  "language_info": {
   "codemirror_mode": {
    "name": "ipython",
    "version": 3
   },
   "file_extension": ".py",
   "mimetype": "text/x-python",
   "name": "python",
   "nbconvert_exporter": "python",
   "pygments_lexer": "ipython3",
   "version": "3.10.2"
  },
  "orig_nbformat": 4
 },
 "nbformat": 4,
 "nbformat_minor": 2
}
