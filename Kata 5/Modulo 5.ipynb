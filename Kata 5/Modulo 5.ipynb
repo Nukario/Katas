{
 "cells": [
  {
   "cell_type": "markdown",
   "metadata": {},
   "source": [
    "#Ejercicio 1"
   ]
  },
  {
   "cell_type": "markdown",
   "metadata": {},
   "source": [
    "#Planetas"
   ]
  },
  {
   "cell_type": "code",
   "execution_count": 2,
   "metadata": {},
   "outputs": [],
   "source": [
    "tierra = 149597870\n",
    "jupiter = 778547200"
   ]
  },
  {
   "cell_type": "markdown",
   "metadata": {},
   "source": [
    "#Distancia entre planetas"
   ]
  },
  {
   "cell_type": "code",
   "execution_count": 10,
   "metadata": {},
   "outputs": [
    {
     "name": "stdout",
     "output_type": "stream",
     "text": [
      "Distancia en km  628949330\n",
      "Distancia en millas  390577534\n"
     ]
    }
   ],
   "source": [
    "distancia = tierra - jupiter\n",
    "print(\"Distancia en km \", abs(distancia))\n",
    "print(\"Distancia en millas \", abs(round(distancia * 0.621)))"
   ]
  },
  {
   "cell_type": "markdown",
   "metadata": {},
   "source": [
    "#Ejercicio 2"
   ]
  },
  {
   "cell_type": "code",
   "execution_count": 6,
   "metadata": {},
   "outputs": [],
   "source": [
    "planeta_1 = input(\"Ingresa la distancia del primer planeta\")\n",
    "planeta_2 = input(\"Ingresa la distancia del segundo planeta\")"
   ]
  },
  {
   "cell_type": "markdown",
   "metadata": {},
   "source": [
    "#cadena a entero"
   ]
  },
  {
   "cell_type": "code",
   "execution_count": 7,
   "metadata": {},
   "outputs": [],
   "source": [
    "p_1 = int(planeta_1)\n",
    "p_2 = int(planeta_2)"
   ]
  },
  {
   "cell_type": "markdown",
   "metadata": {},
   "source": [
    "#Convertir a valor absoluto"
   ]
  },
  {
   "cell_type": "code",
   "execution_count": 8,
   "metadata": {},
   "outputs": [
    {
     "name": "stdout",
     "output_type": "stream",
     "text": [
      "Distancia en km  1\n",
      "Distancia en millas  1\n"
     ]
    }
   ],
   "source": [
    "distancia =p_1 - p_2\n",
    "print(\"Distancia en km \",abs(distancia))\n",
    "print(\"Distancia en millas \", abs(round(distancia * 0.621)))"
   ]
  }
 ],
 "metadata": {
  "interpreter": {
   "hash": "e1776c272581bacb2429406446b2c7a1bfe7cf189ead0b50f0bc6464913d27b9"
  },
  "kernelspec": {
   "display_name": "Python 3.10.2 64-bit",
   "language": "python",
   "name": "python3"
  },
  "language_info": {
   "codemirror_mode": {
    "name": "ipython",
    "version": 3
   },
   "file_extension": ".py",
   "mimetype": "text/x-python",
   "name": "python",
   "nbconvert_exporter": "python",
   "pygments_lexer": "ipython3",
   "version": "3.10.2"
  },
  "orig_nbformat": 4
 },
 "nbformat": 4,
 "nbformat_minor": 2
}
