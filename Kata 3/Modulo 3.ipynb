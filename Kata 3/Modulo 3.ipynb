{
 "cells": [
  {
   "cell_type": "markdown",
   "metadata": {},
   "source": [
    "#Alerta de asteroide"
   ]
  },
  {
   "cell_type": "code",
   "execution_count": 5,
   "metadata": {},
   "outputs": [
    {
     "name": "stdout",
     "output_type": "stream",
     "text": [
      "Alerta se acerca un asteroide a una velocidad mayor a 29km/s\n"
     ]
    }
   ],
   "source": [
    "asteroide = 49\n",
    "\n",
    "if asteroide > 29:\n",
    "    advertencia = \"Alerta se acerca un asteroide a una velocidad mayor a 29km/s\"\n",
    "else:\n",
    "    advertencia = \"La velocidad del asteroide no es mayor a 29km/s\"\n",
    "print(advertencia)\n",
    "\n"
   ]
  },
  {
   "cell_type": "markdown",
   "metadata": {},
   "source": [
    "#Estela de luz"
   ]
  },
  {
   "cell_type": "code",
   "execution_count": 28,
   "metadata": {},
   "outputs": [
    {
     "name": "stdout",
     "output_type": "stream",
     "text": [
      "Ningun asteroide es visible en el cielo\n"
     ]
    }
   ],
   "source": [
    "asteroide = 19\n",
    "\n",
    "if asteroide >= 20:\n",
    "    advertencia = \"Alerta se acerca un asteroide podras ver su estela en el cielo\"\n",
    "else:\n",
    "    advertencia = \"Ningun asteroide es visible en el cielo\"\n",
    "print(advertencia)\n",
    "\n"
   ]
  },
  {
   "cell_type": "markdown",
   "metadata": {},
   "source": [
    "#Ambos factores"
   ]
  },
  {
   "cell_type": "code",
   "execution_count": 27,
   "metadata": {},
   "outputs": [
    {
     "name": "stdout",
     "output_type": "stream",
     "text": [
      "Alerta se acerca un asteroide peligroso a la tierra\n"
     ]
    }
   ],
   "source": [
    "velocidad_asteroide = 10\n",
    "tamaño_asteroide =27\n",
    "\n",
    "if velocidad_asteroide >=29 or tamaño_asteroide >=25 :\n",
    "    advertencia = \"Alerta se acerca un asteroide peligroso a la tierra\"\n",
    "elif velocidad_asteroide >=20 and velocidad_asteroide <29 and tamaño_asteroide <25:\n",
    "    advertencia = \"Alerta se acerca un asteroide no peligroso podras ver su estela en el cielo\"\n",
    "else:\n",
    "    advertencia = \"Ningun asteroide es visible en el cielo\"\n",
    "print(advertencia)\n"
   ]
  }
 ],
 "metadata": {
  "interpreter": {
   "hash": "e1776c272581bacb2429406446b2c7a1bfe7cf189ead0b50f0bc6464913d27b9"
  },
  "kernelspec": {
   "display_name": "Python 3.10.2 64-bit",
   "language": "python",
   "name": "python3"
  },
  "language_info": {
   "codemirror_mode": {
    "name": "ipython",
    "version": 3
   },
   "file_extension": ".py",
   "mimetype": "text/x-python",
   "name": "python",
   "nbconvert_exporter": "python",
   "pygments_lexer": "ipython3",
   "version": "3.10.2"
  },
  "orig_nbformat": 4
 },
 "nbformat": 4,
 "nbformat_minor": 2
}
