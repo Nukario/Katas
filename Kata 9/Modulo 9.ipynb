{
 "cells": [
  {
   "cell_type": "markdown",
   "metadata": {},
   "source": [
    "# Ejercicio 1"
   ]
  },
  {
   "cell_type": "code",
   "execution_count": 12,
   "metadata": {},
   "outputs": [],
   "source": [
    "def tanques(primer_tanque, segundo_tanque, tercer_tanque):\n",
    "    promedio_total =(primer_tanque + segundo_tanque + tercer_tanque)/3\n",
    "    return f\"\"\"Reporte:\n",
    "    Promedio total: {promedio_total}%\n",
    "    Tanque principal: {primer_tanque}%\n",
    "    Tanque extereno: {segundo_tanque}%\n",
    "    Tanque de hidrogeno: {tercer_tanque}% \n",
    "    \"\"\""
   ]
  },
  {
   "cell_type": "markdown",
   "metadata": {},
   "source": [
    "# Generar reporte"
   ]
  },
  {
   "cell_type": "code",
   "execution_count": 13,
   "metadata": {},
   "outputs": [
    {
     "name": "stdout",
     "output_type": "stream",
     "text": [
      "Reporte:\n",
      "    Promedio total: 48.333333333333336%\n",
      "    Tanque principal: 80%\n",
      "    Tanque extereno: 20%\n",
      "    Tanque de hidrogeno: 45% \n",
      "    \n"
     ]
    }
   ],
   "source": [
    "print(tanques(80,20,45))"
   ]
  },
  {
   "cell_type": "markdown",
   "metadata": {},
   "source": [
    "# Funcion promedio"
   ]
  },
  {
   "cell_type": "code",
   "execution_count": 14,
   "metadata": {},
   "outputs": [
    {
     "data": {
      "text/plain": [
       "82.0"
      ]
     },
     "execution_count": 14,
     "metadata": {},
     "output_type": "execute_result"
    }
   ],
   "source": [
    "def promedio(values):\n",
    "    total=sum(values)\n",
    "    number_of_items = len(values)\n",
    "    return total / number_of_items\n",
    "promedio([80, 85, 81])"
   ]
  },
  {
   "cell_type": "markdown",
   "metadata": {},
   "source": [
    "# Actualiza la función"
   ]
  },
  {
   "cell_type": "code",
   "execution_count": 16,
   "metadata": {},
   "outputs": [
    {
     "name": "stdout",
     "output_type": "stream",
     "text": [
      "Reporte:\n",
      "    Promedio total: 86.0%\n",
      "    Tanque principal: 85%\n",
      "    Tanque extereno: 95%\n",
      "    Tanque de hidrogeno: 78% \n",
      "    \n"
     ]
    }
   ],
   "source": [
    "def tanques(primer_tanque, segundo_tanque, tercer_tanque):\n",
    "    promedio_total =(primer_tanque + segundo_tanque + tercer_tanque)/3\n",
    "    return f\"\"\"Reporte:\n",
    "    Promedio total: {promedio([primer_tanque, segundo_tanque, tercer_tanque])}%\n",
    "    Tanque principal: {primer_tanque}%\n",
    "    Tanque extereno: {segundo_tanque}%\n",
    "    Tanque de hidrogeno: {tercer_tanque}% \n",
    "    \"\"\"\n",
    "print(tanques(85,95,78))"
   ]
  },
  {
   "cell_type": "markdown",
   "metadata": {},
   "source": [
    "# Ejercicio 2"
   ]
  },
  {
   "cell_type": "code",
   "execution_count": 18,
   "metadata": {},
   "outputs": [
    {
     "name": "stdout",
     "output_type": "stream",
     "text": [
      "\n",
      "    Mision Luna\n",
      "    Tiempo total de vuelo: 65 minutos\n",
      "    Combustible restante total: 500000 galones\n",
      "    \n"
     ]
    }
   ],
   "source": [
    "def reporte_mision (hora_prelanzamiento, tiempo_vuelo, destino, tanque_externo, tanque_interno):\n",
    "    return f\"\"\"\n",
    "    Mision {destino}\n",
    "    Tiempo total de vuelo: {hora_prelanzamiento + tiempo_vuelo} minutos\n",
    "    Combustible restante total: {tanque_externo + tanque_interno} galones\n",
    "    \"\"\"\n",
    "\n",
    "print(reporte_mision(14, 51, \"Luna\", 200000, 300000))"
   ]
  },
  {
   "cell_type": "markdown",
   "metadata": {},
   "source": [
    "# Nueva funcion"
   ]
  },
  {
   "cell_type": "code",
   "execution_count": 20,
   "metadata": {},
   "outputs": [
    {
     "name": "stdout",
     "output_type": "stream",
     "text": [
      "\n",
      "    Mision Luna\n",
      "    Tiempo total de vuelo: 76 minutes\n",
      "    Combustible restante total: 500000\n",
      "    \n"
     ]
    }
   ],
   "source": [
    "def reporte_mision(destino, *minutos, **reserva_combustible):\n",
    "    return f\"\"\"\n",
    "    Mision {destino}\n",
    "    Tiempo total de vuelo: {sum(minutos)} minutes\n",
    "    Combustible restante total: {sum(reserva_combustible.values())}\n",
    "    \"\"\"\n",
    "\n",
    "print(reporte_mision(\"Luna\", 10, 15, 51, interno=300000, externo=200000))"
   ]
  },
  {
   "cell_type": "markdown",
   "metadata": {},
   "source": [
    "# Cada tanque"
   ]
  },
  {
   "cell_type": "code",
   "execution_count": 25,
   "metadata": {},
   "outputs": [
    {
     "name": "stdout",
     "output_type": "stream",
     "text": [
      "\n",
      "    Mision Luna\n",
      "    Tiempo total de vuelo: 76 minutes\n",
      "    Combustible restante total: 500000\n",
      "    tanque interno --> 300000 galones\n",
      "tanque externo --> 200000 galones\n",
      "\n"
     ]
    }
   ],
   "source": [
    "def reporte_mision(destino, *minutos, **reserva_combustible):\n",
    "    reporte_principal = f\"\"\"\n",
    "    Mision {destino}\n",
    "    Tiempo total de vuelo: {sum(minutos)} minutes\n",
    "    Combustible restante total: {sum(reserva_combustible.values())}\n",
    "    \"\"\"\n",
    "    for tank_name, gallons in reserva_combustible.items():\n",
    "        reporte_principal += f\"tanque {tank_name} --> {gallons} galones\\n\"\n",
    "    return reporte_principal\n",
    "\n",
    "\n",
    "print(reporte_mision(\"Luna\", 10, 15, 51, interno=300000, externo=200000))"
   ]
  }
 ],
 "metadata": {
  "interpreter": {
   "hash": "e1776c272581bacb2429406446b2c7a1bfe7cf189ead0b50f0bc6464913d27b9"
  },
  "kernelspec": {
   "display_name": "Python 3.10.2 64-bit",
   "language": "python",
   "name": "python3"
  },
  "language_info": {
   "codemirror_mode": {
    "name": "ipython",
    "version": 3
   },
   "file_extension": ".py",
   "mimetype": "text/x-python",
   "name": "python",
   "nbconvert_exporter": "python",
   "pygments_lexer": "ipython3",
   "version": "3.10.2"
  },
  "orig_nbformat": 4
 },
 "nbformat": 4,
 "nbformat_minor": 2
}
